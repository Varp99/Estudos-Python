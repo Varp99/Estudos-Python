{
 "cells": [
  {
   "cell_type": "markdown",
   "metadata": {},
   "source": [
    "# Estudos"
   ]
  },
  {
   "cell_type": "markdown",
   "metadata": {},
   "source": [
    "#### Criando uma lista itens com a quantidade de seus produtos vendidos respectivamente."
   ]
  },
  {
   "cell_type": "code",
   "execution_count": null,
   "metadata": {},
   "outputs": [],
   "source": [
    "produtos = ['tv','celular','mouse','teclado','tablet']\n",
    "vendas = [1000, 1500, 350, 270, 900]\n",
    "print(produtos)"
   ]
  },
  {
   "cell_type": "markdown",
   "metadata": {},
   "source": [
    "#### Usando índices com as listas"
   ]
  },
  {
   "cell_type": "markdown",
   "metadata": {},
   "source": [
    "<pre>No caso, no código abaixo ele está pegando o produto que está no índice 1 e a venda que está no índice 1, fazendo a correlação</pre>"
   ]
  },
  {
   "cell_type": "code",
   "execution_count": null,
   "metadata": {},
   "outputs": [],
   "source": [
    "produtos = ['tv','celular','mouse','teclado','tablet']\n",
    "vendas = [1000, 1500, 350, 270, 900]\n",
    "print(produtos[1])\n",
    "print(\"Vendas do produto {} foram de {} unidades\".format(produtos[1], vendas[1]))"
   ]
  },
  {
   "cell_type": "markdown",
   "metadata": {},
   "source": [
    "#### As listas são mutáveis, ou seja dá pra mudar o valor dela, abaixo segue um exemplo de como fazer"
   ]
  },
  {
   "cell_type": "code",
   "execution_count": null,
   "metadata": {},
   "outputs": [],
   "source": [
    "produtos = ['tv','celular','mouse','teclado','tablet']\n",
    "vendas = [1000, 1500, 350, 270, 900]\n",
    "\n",
    "vendas[1] = 500\n",
    "\n",
    "print(\"Vendas do produto {} foram de {} unidades\".format(produtos[1], vendas[1]))"
   ]
  },
  {
   "cell_type": "markdown",
   "metadata": {},
   "source": [
    "#### Já as strings são imutáveis"
   ]
  },
  {
   "cell_type": "code",
   "execution_count": null,
   "metadata": {},
   "outputs": [],
   "source": [
    "texto = \"vini.arpini@hotmail.com\"\n",
    "print(texto[1])"
   ]
  },
  {
   "cell_type": "markdown",
   "metadata": {},
   "source": [
    "#### Como descobrir o índice de um item de uma lista?"
   ]
  },
  {
   "cell_type": "code",
   "execution_count": null,
   "metadata": {},
   "outputs": [],
   "source": [
    "produtos = ['tv','celular','mouse','teclado','tablet','geladeira','forno','colher','faca','garfo']\n",
    "estoque = [100, 150, 100, 350, 250, 400, 50, 25, 60, 58]\n",
    "\n",
    "i = produtos.index('geladeira')\n",
    "\n",
    "print(i)\n",
    "print(\"O produto nesse índice é: {}\".format(produtos[i]))\n",
    "print(\"Quantidade em estoque da geladeira é de: {}\".format(estoque[i]))"
   ]
  },
  {
   "cell_type": "markdown",
   "metadata": {},
   "source": [
    "#### Crie um programa para fazer uma consulta de estoque. O usuário do programa deve inserir o nome do produto e, caso ele não exista na lista, ele seja avisado. Caso exista, o programa deve dizer a quantidade de unidades em estoque do produto."
   ]
  },
  {
   "cell_type": "code",
   "execution_count": null,
   "metadata": {},
   "outputs": [],
   "source": [
    "produtos = ['geladeira','carro']\n",
    "estoque = [500, 200]\n",
    "\n",
    "produto = input(\"Insira o nome do produto: \")\n",
    "\n",
    "if produto in produtos:\n",
    "    i = produtos.index(produto)\n",
    "    print(\"Temos {} unidades de {} no estoque\".format(estoque[i], produto))\n",
    "else:\n",
    "    print(\"{} não existe no estoque\".format(produto))"
   ]
  },
  {
   "cell_type": "markdown",
   "metadata": {},
   "source": [
    "#### Adicionar e Remover itens de uma lista"
   ]
  },
  {
   "cell_type": "code",
   "execution_count": null,
   "metadata": {},
   "outputs": [],
   "source": [
    "produtos = ['geladeira','carro']\n",
    "print(produtos)\n",
    "produtos.append('pc')\n",
    "print(produtos)\n",
    "\n",
    "#Remover\n",
    "produtos.pop(1)"
   ]
  },
  {
   "cell_type": "markdown",
   "metadata": {},
   "source": [
    "#### Tamanho da lista"
   ]
  },
  {
   "cell_type": "code",
   "execution_count": null,
   "metadata": {},
   "outputs": [],
   "source": [
    "produtos = ['geladeira','carro', 'moto', 'garrafa']\n",
    "\n",
    "tamanho = len(produtos)\n",
    "\n",
    "print(tamanho)"
   ]
  },
  {
   "cell_type": "markdown",
   "metadata": {},
   "source": [
    "#### Maior e Menor valor da lista"
   ]
  },
  {
   "cell_type": "code",
   "execution_count": null,
   "metadata": {},
   "outputs": [],
   "source": [
    "vendas = [1000, 1500, 15000, 270, 900, 100, 1200]\n",
    "\n",
    "maior = max(vendas)\n",
    "menor = min(vendas)\n",
    "\n",
    "print(maior, menor)"
   ]
  },
  {
   "cell_type": "markdown",
   "metadata": {},
   "source": [
    "#### Juntar listas e ordenar"
   ]
  },
  {
   "cell_type": "code",
   "execution_count": null,
   "metadata": {},
   "outputs": [],
   "source": [
    "produtos = ['apple tv', 'mac', 'iphone x', 'iphone 11', 'IPad']\n",
    "novos_produtos = ['iphone 12', 'airpods']\n",
    "\n",
    "produtos.extend(novos_produtos)\n",
    "\n",
    "print(produtos)\n",
    "\n",
    "produtos.sort()\n",
    "print(produtos)\n",
    "\n",
    "#Ordena do maior pro menor\n",
    "#produtos.sort(reverse=True)"
   ]
  },
  {
   "cell_type": "markdown",
   "metadata": {},
   "source": [
    "#### Print de listas"
   ]
  },
  {
   "cell_type": "code",
   "execution_count": null,
   "metadata": {},
   "outputs": [],
   "source": [
    "produtos = ['apple tv', 'mac', 'iphone x', 'iphone 11', 'IPad']\n",
    "\n",
    "print(produtos)\n",
    "\n",
    "print(', '.join(produtos))\n",
    "\n",
    "print('\\n'.join(produtos))"
   ]
  },
  {
   "cell_type": "markdown",
   "metadata": {},
   "source": [
    "#### Alterações \"incrementais\" de Variáveis"
   ]
  },
  {
   "cell_type": "code",
   "execution_count": null,
   "metadata": {},
   "outputs": [],
   "source": [
    "lista = ['mac', 'iphone']\n",
    "vendas = [100, 200]\n",
    "\n",
    "lista = lista + ['Ipad'] #alteração incremental com listas\n",
    "\n",
    "print(lista)"
   ]
  },
  {
   "cell_type": "code",
   "execution_count": null,
   "metadata": {},
   "outputs": [],
   "source": [
    "soma_vendas = 300\n",
    "\n",
    "soma_vendas = soma_vendas + 500 #alteração incremental com números\n",
    "\n",
    "print(soma_vendas)"
   ]
  },
  {
   "cell_type": "code",
   "execution_count": null,
   "metadata": {},
   "outputs": [],
   "source": [
    "email = \"vini.arpini@hotmail\"\n",
    "\n",
    "email = email + \".com\" #alteração incremental com caracteres\n",
    "\n",
    "print(email)"
   ]
  }
 ],
 "metadata": {
  "kernelspec": {
   "display_name": "Python 3.10.1 64-bit",
   "language": "python",
   "name": "python3"
  },
  "language_info": {
   "codemirror_mode": {
    "name": "ipython",
    "version": 3
   },
   "file_extension": ".py",
   "mimetype": "text/x-python",
   "name": "python",
   "nbconvert_exporter": "python",
   "pygments_lexer": "ipython3",
   "version": "3.10.1"
  },
  "orig_nbformat": 4,
  "vscode": {
   "interpreter": {
    "hash": "00c3101e1489cc7b985dd579973095e8401208668771acef53d6cdccbf5d0b44"
   }
  }
 },
 "nbformat": 4,
 "nbformat_minor": 2
}
