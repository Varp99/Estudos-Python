{
 "cells": [
  {
   "cell_type": "markdown",
   "metadata": {},
   "source": [
    "# Exercícios 01\n",
    "\n"
   ]
  },
  {
   "cell_type": "markdown",
   "metadata": {},
   "source": [
    "#### 1. Faça um Programa que mostre a mensagem \"Alo mundo\" na tela."
   ]
  },
  {
   "cell_type": "code",
   "execution_count": null,
   "metadata": {},
   "outputs": [],
   "source": [
    "print(\"Alô mundo\")"
   ]
  },
  {
   "cell_type": "markdown",
   "metadata": {},
   "source": [
    "#### 2. Faça um Programa que peça um número e então mostre a mensagem O número informado foi [número].\n"
   ]
  },
  {
   "cell_type": "code",
   "execution_count": null,
   "metadata": {},
   "outputs": [],
   "source": [
    "numero = input(\"Digite um número: \")\n",
    "print(\"O número informado foi:\", numero)"
   ]
  },
  {
   "cell_type": "markdown",
   "metadata": {},
   "source": [
    "#### 3. Faça um Programa que peça dois números e imprima a soma."
   ]
  },
  {
   "cell_type": "code",
   "execution_count": null,
   "metadata": {},
   "outputs": [],
   "source": [
    "numero1 = float(input(\"Digite o primeiro número: \"))\n",
    "numero2 = float(input(\"Digite o segundo número: \"))\n",
    "soma = numero1 + numero2\n",
    "print(\"A soma dos números é: \",soma)"
   ]
  },
  {
   "cell_type": "markdown",
   "metadata": {},
   "source": [
    "#### 4. Faça um Programa que peça as 4 notas bimestrais e mostre a média."
   ]
  },
  {
   "cell_type": "code",
   "execution_count": null,
   "metadata": {},
   "outputs": [],
   "source": [
    "nota1 = float(input(\"Digite a primeira nota: \"))\n",
    "nota2 = float(input(\"Digite a segunda nota: \"))\n",
    "nota3 = float(input(\"Digite a terceira nota: \"))\n",
    "nota4 = float(input(\"Digite a quarta nota: \"))\n",
    "\n",
    "media = (nota1 + nota2 + nota3 + nota4)/4\n",
    "\n",
    "print(\"A média é de: \",media)"
   ]
  },
  {
   "cell_type": "markdown",
   "metadata": {},
   "source": [
    "#### 5. Faça um Programa que converta metros para centímetros."
   ]
  },
  {
   "cell_type": "code",
   "execution_count": null,
   "metadata": {},
   "outputs": [],
   "source": [
    "valor = float(input(\"Digite um valor em metros: \"))\n",
    "centimetros = valor * 100\n",
    "print(\"Esse valor em centímetros fica: \",centimetros)"
   ]
  },
  {
   "cell_type": "markdown",
   "metadata": {},
   "source": [
    "#### 6. Faça um Programa que peça o raio de um círculo, calcule e mostre sua área."
   ]
  },
  {
   "cell_type": "code",
   "execution_count": null,
   "metadata": {},
   "outputs": [],
   "source": [
    "raio = float(input(\"Digite o valor do raio: \"))\n",
    "area = 3.14 * raio ** 2\n",
    "print(\"A área desse círculo é de: \", area)"
   ]
  },
  {
   "cell_type": "markdown",
   "metadata": {},
   "source": [
    "#### 7. Faça um Programa que calcule a área de um quadrado, em seguida mostre o dobro desta área para o usuário."
   ]
  },
  {
   "cell_type": "code",
   "execution_count": null,
   "metadata": {},
   "outputs": [],
   "source": [
    "valor = float(input(\"Digite um valor: \"))\n",
    "area = valor * valor\n",
    "print(\"A área deste quadrado é de: \", area)\n",
    "dobro = area * 2\n",
    "print(\"O dobro desta área é: \", dobro)"
   ]
  },
  {
   "cell_type": "markdown",
   "metadata": {},
   "source": [
    "#### 8. Faça um Programa que pergunte quanto você ganha por hora e o número de horas trabalhadas no mês. Calcule e mostre o total do seu salário no referido mês.\n",
    "\n"
   ]
  },
  {
   "cell_type": "code",
   "execution_count": null,
   "metadata": {},
   "outputs": [],
   "source": [
    "sl_hora = float(input(\"Quanto você ganha por hora: \"))\n",
    "horas = float(input(\"Digite quantas horas vc trabalha por mês: \"))\n",
    "total = sl_hora * horas\n",
    "print(\"O seu salário no mês é de: \",total)"
   ]
  },
  {
   "cell_type": "markdown",
   "metadata": {},
   "source": [
    "#### 9. Faça um Programa que peça a temperatura em graus Farenheit, transforme e mostre a temperatura em graus Celsius. C = (5 * (F-32) / 9).\n",
    "\n"
   ]
  },
  {
   "cell_type": "code",
   "execution_count": null,
   "metadata": {},
   "outputs": [],
   "source": [
    "faren = float(input(\"Digite uma temperatura em Farenheit: \"))\n",
    "c = (5*(faren-32)/9)\n",
    "print(\"Essa temperatura em Celsius é: \",c)"
   ]
  },
  {
   "cell_type": "markdown",
   "metadata": {},
   "source": [
    "#### 10. Faça um Programa que peça a temperatura em graus Celsius, transforme e mostre em graus Farenheit.\n"
   ]
  },
  {
   "cell_type": "code",
   "execution_count": null,
   "metadata": {},
   "outputs": [],
   "source": [
    "celsius = float(input(\"Digite uma temperatura em Celsius: \"))\n",
    "f = (celsius * 9/5) + 32\n",
    "print(\"Essa temperatura em Farenheit é: \",f)"
   ]
  },
  {
   "cell_type": "markdown",
   "metadata": {},
   "source": [
    "#### 11. Faça um Programa que peça 2 números inteiros e um número real. Calcule e mostre:\n",
    "<pre>a. o produto do dobro do primeiro com metade do segundo .\n",
    "b. a soma do triplo do primeiro com o terceiro.\n",
    "c. o terceiro elevado ao cubo.</pre>"
   ]
  },
  {
   "cell_type": "code",
   "execution_count": null,
   "metadata": {},
   "outputs": [],
   "source": [
    "num1 = int(input(\"Digite um número inteiro: \"))\n",
    "num2 = int(input(\"Digite um número inteiro: \"))\n",
    "num3 = float(input(\"Digite um número real: \"))\n",
    "\n",
    "a = (num1*2) * num2/2\n",
    "b = num1*3 + num3\n",
    "c = num3 ** 3\n",
    "\n",
    "print(\"A = \", a)\n",
    "print(\"B = \", b)\n",
    "print(\"C = \", c)"
   ]
  },
  {
   "cell_type": "markdown",
   "metadata": {},
   "source": [
    "#### 12. Tendo como dados de entrada a altura de uma pessoa, construa um algoritmo que calcule seu peso ideal, usando a seguinte fórmula: (72.7*altura)-58 (altura em metros).\n",
    "\n"
   ]
  },
  {
   "cell_type": "code",
   "execution_count": null,
   "metadata": {},
   "outputs": [],
   "source": [
    "altura = float(input(\"Digite sua altura: \"))\n",
    "peso = (72.7*altura)-58\n",
    "print(\"Seu peso ideal seria: \", peso)"
   ]
  },
  {
   "cell_type": "markdown",
   "metadata": {},
   "source": [
    "#### 13. Tendo como dados de entrada a altura e o sexo de uma pessoa, construa um algoritmo que calcule seu peso ideal, utilizando as seguintes fórmulas:\n",
    "<pre>a. Para homens: (72.7*h) - 58\n",
    "b. Para mulheres: (62.1*h) - 44.7 (h = altura)</pre>"
   ]
  },
  {
   "cell_type": "code",
   "execution_count": null,
   "metadata": {},
   "outputs": [],
   "source": [
    "altura = float(input(\"Digite sua altura: \"))\n",
    "sexo = input(\"Digite seu sexo (m) ou (f): \")\n",
    "\n",
    "if sexo == \"m\":\n",
    "    peso = (72.7*altura)-58\n",
    "    print(\"Seu peso ideal seria: \",peso)\n",
    "elif sexo == \"f\":\n",
    "    peso = (62.1*altura)-44.7\n",
    "    print(\"Seu peso ideal seria: \",peso)\n",
    "else:\n",
    "    print(\"Parar\")"
   ]
  },
  {
   "cell_type": "markdown",
   "metadata": {},
   "source": [
    "#### 14. Faça um Programa que pergunte quanto você ganha por hora e o número de horas trabalhadas no mês. Calcule e mostre o total do seu salário no referido mês, sabendose que são descontados 11% para o Imposto de Renda, 8% para o INSS e 5% para o sindicato, faça um programa que nos dê:\n",
    "<pre>a. salário bruto.\n",
    "b. quanto pagou ao INSS.\n",
    "c. quanto pagou ao sindicato.\n",
    "d. o salário líquido.\n",
    "e. calcule os descontos e o salário líquido, conforme a tabela abaixo:\n",
    "+ Salário Bruto : R$\n",
    " IR (11%) : R$\n",
    " INSS (8%) : R$\n",
    " Sindicato ( 5%) : R$\n",
    "= Salário Liquido : R$\n",
    "Obs.: Salário Bruto - Descontos = Salário Líquido.</pre>\n"
   ]
  },
  {
   "cell_type": "code",
   "execution_count": null,
   "metadata": {},
   "outputs": [],
   "source": [
    "sl_hora = float(input(\"Digite quanto vc ganha por hora: \"))\n",
    "horas = float(input(\"Digite quantas horas vc trabalha no mês: \"))\n",
    "\n",
    "salario_bruto = sl_hora * horas\n",
    "b = salario_bruto * 0.11\n",
    "c = salario_bruto * 0.08\n",
    "d = salario_bruto * 0.05\n",
    "e = salario_bruto - b - c - d\n",
    "\n",
    "print(\"Seu salário bruto é de : \", salario_bruto)\n",
    "print(\"Valor pago ao IR : \", b)\n",
    "print(\"Valor pago ao INSS : \", c)\n",
    "print(\"Valor pago ao Sindicato : \", d)\n",
    "print(\"Seu salário líquido é de : \", e)"
   ]
  },
  {
   "cell_type": "markdown",
   "metadata": {},
   "source": [
    "#### 15. Faça um programa para uma loja de tintas. O programa deverá pedir o tamanho em metros quadrados da área a ser pintada. Considere que a cobertura da tinta é de 1 litro para cada 3 metros quadrados e que a tinta é vendida em latas de 18 litros, que custam R$ 80,00. Informe ao usuário a quantidades de latas de tinta a serem compradas e o preço total.\n"
   ]
  },
  {
   "cell_type": "code",
   "execution_count": null,
   "metadata": {},
   "outputs": [],
   "source": [
    "tamanho = int(input(\"Digite o tamanho em metros quadrados da área a ser pintada: \"))\n",
    "\n",
    "if tamanho % (3*18) == 0:\n",
    "    latas = tamanho/(3*18)\n",
    "else:\n",
    "    latas = tamanho/(3*18) + 1\n",
    "\n",
    "preco = latas*80\n",
    "\n",
    "print(\"Latas: \", latas)\n",
    "print(\"Preço: \", preco)"
   ]
  },
  {
   "cell_type": "markdown",
   "metadata": {},
   "source": [
    "#### 16. Faça um programa que peça o tamanho de um arquivo para download (em MB) e a velocidade de um link de Internet (em Mbps), calcule e informe o tempo aproximado de download do arquivo usando este link (em minutos)"
   ]
  },
  {
   "cell_type": "code",
   "execution_count": null,
   "metadata": {},
   "outputs": [],
   "source": [
    "tam_arquiv = float(input(\"Digite o tamanho do arquivo para download em MB: \"))\n",
    "velocidade = float(input(\"Digite a velocidade da sua internet em MBPS: \"))\n",
    "\n",
    "segundos = tam_arquiv/velocidade\n",
    "minutos = int(segundos/60)\n",
    "segundos = segundos%60\n",
    "\n",
    "print(\"Tempo aproximado para download: \" + str(minutos) + \" minutos e \" + str(segundos) + \" segundos\")"
   ]
  }
 ],
 "metadata": {
  "kernelspec": {
   "display_name": "Python 3.10.1 64-bit",
   "language": "python",
   "name": "python3"
  },
  "language_info": {
   "codemirror_mode": {
    "name": "ipython",
    "version": 3
   },
   "file_extension": ".py",
   "mimetype": "text/x-python",
   "name": "python",
   "nbconvert_exporter": "python",
   "pygments_lexer": "ipython3",
   "version": "3.10.1"
  },
  "orig_nbformat": 4,
  "vscode": {
   "interpreter": {
    "hash": "00c3101e1489cc7b985dd579973095e8401208668771acef53d6cdccbf5d0b44"
   }
  }
 },
 "nbformat": 4,
 "nbformat_minor": 2
}
